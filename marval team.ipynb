{
 "cells": [
  {
   "cell_type": "code",
   "execution_count": 1,
   "id": "06e23f59",
   "metadata": {},
   "outputs": [],
   "source": [
    "  # This Python 3 environment comes with many helpful analytics libraries installed\n",
    "# It is defined by the kaggle/python Docker image: https://github.com/kaggle/docker-python\n",
    "# For example, here's several helpful packages to load\n",
    "\n",
    "import numpy as np # linear algebra\n",
    "import pandas as pd # data processing, CSV file I/O (e.g. pd.read_csv)\n",
    "\n",
    "# Input data files are available in the read-only \"../input/\" directory\n",
    "# For example, running this (by clicking run or pressing Shift+Enter) will list all files under the input directory\n",
    "\n",
    "import os\n",
    "for dirname, _, filenames in os.walk('/kaggle/input'):\n",
    "    for filename in filenames:\n",
    "        print(os.path.join(dirname, filename))\n",
    "\n",
    "# You can write up to 5GB to the current directory (/kaggle/working/) that gets preserved as output when you create a version using \"Save & Run All\" \n",
    "# You can also write temporary files to /kaggle/temp/, but they won't be saved outside of the current session\n",
    "import matplotlib.pyplot as plt\n",
    "import seaborn as sns\n",
    "from wordcloud import WordCloud"
   ]
  },
  {
   "cell_type": "code",
   "execution_count": null,
   "id": "084507d8",
   "metadata": {
    "scrolled": true
   },
   "outputs": [],
   "source": []
  },
  {
   "cell_type": "code",
   "execution_count": null,
   "id": "1164929a",
   "metadata": {},
   "outputs": [],
   "source": []
  },
  {
   "cell_type": "code",
   "execution_count": null,
   "id": "72273c82",
   "metadata": {},
   "outputs": [],
   "source": []
  },
  {
   "cell_type": "code",
   "execution_count": 4,
   "id": "300be888",
   "metadata": {},
   "outputs": [
    {
     "data": {
      "text/html": [
       "<div>\n",
       "<style scoped>\n",
       "    .dataframe tbody tr th:only-of-type {\n",
       "        vertical-align: middle;\n",
       "    }\n",
       "\n",
       "    .dataframe tbody tr th {\n",
       "        vertical-align: top;\n",
       "    }\n",
       "\n",
       "    .dataframe thead th {\n",
       "        text-align: right;\n",
       "    }\n",
       "</style>\n",
       "<table border=\"1\" class=\"dataframe\">\n",
       "  <thead>\n",
       "    <tr style=\"text-align: right;\">\n",
       "      <th></th>\n",
       "      <th>Name</th>\n",
       "      <th>Links</th>\n",
       "      <th>Cost</th>\n",
       "      <th>Collections</th>\n",
       "      <th>Cuisines</th>\n",
       "      <th>Timings</th>\n",
       "    </tr>\n",
       "  </thead>\n",
       "  <tbody>\n",
       "    <tr>\n",
       "      <th>0</th>\n",
       "      <td>Beyond Flavours</td>\n",
       "      <td>https://www.zomato.com/hyderabad/beyond-flavou...</td>\n",
       "      <td>800</td>\n",
       "      <td>Food Hygiene Rated Restaurants in Hyderabad, C...</td>\n",
       "      <td>Chinese, Continental, Kebab, European, South I...</td>\n",
       "      <td>12noon to 3:30pm, 6:30pm to 11:30pm (Mon-Sun)</td>\n",
       "    </tr>\n",
       "    <tr>\n",
       "      <th>1</th>\n",
       "      <td>Paradise</td>\n",
       "      <td>https://www.zomato.com/hyderabad/paradise-gach...</td>\n",
       "      <td>800</td>\n",
       "      <td>Hyderabad's Hottest</td>\n",
       "      <td>Biryani, North Indian, Chinese</td>\n",
       "      <td>11 AM to 11 PM</td>\n",
       "    </tr>\n",
       "    <tr>\n",
       "      <th>2</th>\n",
       "      <td>Flechazo</td>\n",
       "      <td>https://www.zomato.com/hyderabad/flechazo-gach...</td>\n",
       "      <td>1,300</td>\n",
       "      <td>Great Buffets, Hyderabad's Hottest</td>\n",
       "      <td>Asian, Mediterranean, North Indian, Desserts</td>\n",
       "      <td>11:30 AM to 4:30 PM, 6:30 PM to 11 PM</td>\n",
       "    </tr>\n",
       "    <tr>\n",
       "      <th>3</th>\n",
       "      <td>Shah Ghouse Hotel &amp; Restaurant</td>\n",
       "      <td>https://www.zomato.com/hyderabad/shah-ghouse-h...</td>\n",
       "      <td>800</td>\n",
       "      <td>Late Night Restaurants</td>\n",
       "      <td>Biryani, North Indian, Chinese, Seafood, Bever...</td>\n",
       "      <td>12 Noon to 2 AM</td>\n",
       "    </tr>\n",
       "    <tr>\n",
       "      <th>4</th>\n",
       "      <td>Over The Moon Brew Company</td>\n",
       "      <td>https://www.zomato.com/hyderabad/over-the-moon...</td>\n",
       "      <td>1,200</td>\n",
       "      <td>Best Bars &amp; Pubs, Food Hygiene Rated Restauran...</td>\n",
       "      <td>Asian, Continental, North Indian, Chinese, Med...</td>\n",
       "      <td>12noon to 11pm (Mon, Tue, Wed, Thu, Sun), 12no...</td>\n",
       "    </tr>\n",
       "    <tr>\n",
       "      <th>5</th>\n",
       "      <td>The Fisherman's Wharf</td>\n",
       "      <td>https://www.zomato.com/hyderabad/the-fisherman...</td>\n",
       "      <td>1,500</td>\n",
       "      <td>Sunday Brunches, Corporate Favorites, Great Bu...</td>\n",
       "      <td>Seafood, Goan, North Indian, Continental, Asian</td>\n",
       "      <td>12Noon to 3:30PM, 4PM to 6:30PM, 7PM to 11:30P...</td>\n",
       "    </tr>\n",
       "    <tr>\n",
       "      <th>6</th>\n",
       "      <td>eat.fit</td>\n",
       "      <td>https://www.zomato.com/hyderabad/eat-fit-gachi...</td>\n",
       "      <td>500</td>\n",
       "      <td>Food Hygiene Rated Restaurants in Hyderabad</td>\n",
       "      <td>Healthy Food, North Indian, Continental, South...</td>\n",
       "      <td>7 AM to 10 PM</td>\n",
       "    </tr>\n",
       "    <tr>\n",
       "      <th>7</th>\n",
       "      <td>Shah Ghouse Spl Shawarma</td>\n",
       "      <td>https://www.zomato.com/hyderabad/shah-ghouse-s...</td>\n",
       "      <td>300</td>\n",
       "      <td>NaN</td>\n",
       "      <td>Lebanese</td>\n",
       "      <td>12 Noon to 12 Midnight</td>\n",
       "    </tr>\n",
       "    <tr>\n",
       "      <th>8</th>\n",
       "      <td>Hyper Local</td>\n",
       "      <td>https://www.zomato.com/hyderabad/hyper-local-g...</td>\n",
       "      <td>1,000</td>\n",
       "      <td>Great Buffets, Live Sports Screenings, Best Ba...</td>\n",
       "      <td>American, Chinese, North Indian, Kebab, South ...</td>\n",
       "      <td>12 Noon to 12 Midnight</td>\n",
       "    </tr>\n",
       "    <tr>\n",
       "      <th>9</th>\n",
       "      <td>Cream Stone</td>\n",
       "      <td>https://www.zomato.com/hyderabad/cream-stone-g...</td>\n",
       "      <td>350</td>\n",
       "      <td>Frozen Delights</td>\n",
       "      <td>Ice Cream, Desserts</td>\n",
       "      <td>10 AM to 1 AM (Mon-Thu), 10 AM to 1:30 AM (Fri...</td>\n",
       "    </tr>\n",
       "  </tbody>\n",
       "</table>\n",
       "</div>"
      ],
      "text/plain": [
       "                             Name  \\\n",
       "0                 Beyond Flavours   \n",
       "1                        Paradise   \n",
       "2                        Flechazo   \n",
       "3  Shah Ghouse Hotel & Restaurant   \n",
       "4      Over The Moon Brew Company   \n",
       "5           The Fisherman's Wharf   \n",
       "6                         eat.fit   \n",
       "7        Shah Ghouse Spl Shawarma   \n",
       "8                     Hyper Local   \n",
       "9                     Cream Stone   \n",
       "\n",
       "                                               Links   Cost  \\\n",
       "0  https://www.zomato.com/hyderabad/beyond-flavou...    800   \n",
       "1  https://www.zomato.com/hyderabad/paradise-gach...    800   \n",
       "2  https://www.zomato.com/hyderabad/flechazo-gach...  1,300   \n",
       "3  https://www.zomato.com/hyderabad/shah-ghouse-h...    800   \n",
       "4  https://www.zomato.com/hyderabad/over-the-moon...  1,200   \n",
       "5  https://www.zomato.com/hyderabad/the-fisherman...  1,500   \n",
       "6  https://www.zomato.com/hyderabad/eat-fit-gachi...    500   \n",
       "7  https://www.zomato.com/hyderabad/shah-ghouse-s...    300   \n",
       "8  https://www.zomato.com/hyderabad/hyper-local-g...  1,000   \n",
       "9  https://www.zomato.com/hyderabad/cream-stone-g...    350   \n",
       "\n",
       "                                         Collections  \\\n",
       "0  Food Hygiene Rated Restaurants in Hyderabad, C...   \n",
       "1                                Hyderabad's Hottest   \n",
       "2                 Great Buffets, Hyderabad's Hottest   \n",
       "3                             Late Night Restaurants   \n",
       "4  Best Bars & Pubs, Food Hygiene Rated Restauran...   \n",
       "5  Sunday Brunches, Corporate Favorites, Great Bu...   \n",
       "6        Food Hygiene Rated Restaurants in Hyderabad   \n",
       "7                                                NaN   \n",
       "8  Great Buffets, Live Sports Screenings, Best Ba...   \n",
       "9                                    Frozen Delights   \n",
       "\n",
       "                                            Cuisines  \\\n",
       "0  Chinese, Continental, Kebab, European, South I...   \n",
       "1                     Biryani, North Indian, Chinese   \n",
       "2       Asian, Mediterranean, North Indian, Desserts   \n",
       "3  Biryani, North Indian, Chinese, Seafood, Bever...   \n",
       "4  Asian, Continental, North Indian, Chinese, Med...   \n",
       "5    Seafood, Goan, North Indian, Continental, Asian   \n",
       "6  Healthy Food, North Indian, Continental, South...   \n",
       "7                                           Lebanese   \n",
       "8  American, Chinese, North Indian, Kebab, South ...   \n",
       "9                                Ice Cream, Desserts   \n",
       "\n",
       "                                             Timings  \n",
       "0      12noon to 3:30pm, 6:30pm to 11:30pm (Mon-Sun)  \n",
       "1                                     11 AM to 11 PM  \n",
       "2              11:30 AM to 4:30 PM, 6:30 PM to 11 PM  \n",
       "3                                    12 Noon to 2 AM  \n",
       "4  12noon to 11pm (Mon, Tue, Wed, Thu, Sun), 12no...  \n",
       "5  12Noon to 3:30PM, 4PM to 6:30PM, 7PM to 11:30P...  \n",
       "6                                      7 AM to 10 PM  \n",
       "7                             12 Noon to 12 Midnight  \n",
       "8                             12 Noon to 12 Midnight  \n",
       "9  10 AM to 1 AM (Mon-Thu), 10 AM to 1:30 AM (Fri...  "
      ]
     },
     "execution_count": 4,
     "metadata": {},
     "output_type": "execute_result"
    }
   ],
   "source": [
    "restaurants=pd.read_csv('Restaurant names and Metadata.csv')\n",
    "restaurants.head(10)"
   ]
  },
  {
   "cell_type": "code",
   "execution_count": 5,
   "id": "6597cb51",
   "metadata": {},
   "outputs": [
    {
     "data": {
      "text/plain": [
       "Name           object\n",
       "Links          object\n",
       "Cost           object\n",
       "Collections    object\n",
       "Cuisines       object\n",
       "Timings        object\n",
       "dtype: object"
      ]
     },
     "execution_count": 5,
     "metadata": {},
     "output_type": "execute_result"
    }
   ],
   "source": [
    "restaurants.dtypes"
   ]
  },
  {
   "cell_type": "code",
   "execution_count": 6,
   "id": "5a4e4b92",
   "metadata": {},
   "outputs": [
    {
     "data": {
      "text/plain": [
       "Name           object\n",
       "Links          object\n",
       "Cost            int64\n",
       "Collections    object\n",
       "Cuisines       object\n",
       "Timings        object\n",
       "dtype: object"
      ]
     },
     "execution_count": 6,
     "metadata": {},
     "output_type": "execute_result"
    }
   ],
   "source": [
    "restaurants['Cost']=pd.to_numeric(restaurants['Cost'].str.replace(',',''))\n",
    "restaurants.dtypes"
   ]
  },
  {
   "cell_type": "code",
   "execution_count": 7,
   "id": "7cc7a33b",
   "metadata": {},
   "outputs": [
    {
     "data": {
      "text/plain": [
       "Name            0\n",
       "Links           0\n",
       "Cost            0\n",
       "Collections    54\n",
       "Cuisines        0\n",
       "Timings         1\n",
       "dtype: int64"
      ]
     },
     "execution_count": 7,
     "metadata": {},
     "output_type": "execute_result"
    }
   ],
   "source": [
    "restaurants.isnull().sum()"
   ]
  },
  {
   "cell_type": "code",
   "execution_count": 10,
   "id": "02dbfcfc",
   "metadata": {},
   "outputs": [
    {
     "data": {
      "text/html": [
       "<div>\n",
       "<style scoped>\n",
       "    .dataframe tbody tr th:only-of-type {\n",
       "        vertical-align: middle;\n",
       "    }\n",
       "\n",
       "    .dataframe tbody tr th {\n",
       "        vertical-align: top;\n",
       "    }\n",
       "\n",
       "    .dataframe thead th {\n",
       "        text-align: right;\n",
       "    }\n",
       "</style>\n",
       "<table border=\"1\" class=\"dataframe\">\n",
       "  <thead>\n",
       "    <tr style=\"text-align: right;\">\n",
       "      <th></th>\n",
       "      <th>Restaurant</th>\n",
       "      <th>Reviewer</th>\n",
       "      <th>Review</th>\n",
       "      <th>Rating</th>\n",
       "      <th>Metadata</th>\n",
       "      <th>Time</th>\n",
       "      <th>Pictures</th>\n",
       "    </tr>\n",
       "  </thead>\n",
       "  <tbody>\n",
       "    <tr>\n",
       "      <th>0</th>\n",
       "      <td>Beyond Flavours</td>\n",
       "      <td>Rusha Chakraborty</td>\n",
       "      <td>The ambience was good, food was quite good . h...</td>\n",
       "      <td>5</td>\n",
       "      <td>1 Review , 2 Followers</td>\n",
       "      <td>5/25/2019 15:54</td>\n",
       "      <td>0</td>\n",
       "    </tr>\n",
       "    <tr>\n",
       "      <th>1</th>\n",
       "      <td>Beyond Flavours</td>\n",
       "      <td>Anusha Tirumalaneedi</td>\n",
       "      <td>Ambience is too good for a pleasant evening. S...</td>\n",
       "      <td>5</td>\n",
       "      <td>3 Reviews , 2 Followers</td>\n",
       "      <td>5/25/2019 14:20</td>\n",
       "      <td>0</td>\n",
       "    </tr>\n",
       "    <tr>\n",
       "      <th>2</th>\n",
       "      <td>Beyond Flavours</td>\n",
       "      <td>Ashok Shekhawat</td>\n",
       "      <td>A must try.. great food great ambience. Thnx f...</td>\n",
       "      <td>5</td>\n",
       "      <td>2 Reviews , 3 Followers</td>\n",
       "      <td>5/24/2019 22:54</td>\n",
       "      <td>0</td>\n",
       "    </tr>\n",
       "    <tr>\n",
       "      <th>3</th>\n",
       "      <td>Beyond Flavours</td>\n",
       "      <td>Swapnil Sarkar</td>\n",
       "      <td>Soumen das and Arun was a great guy. Only beca...</td>\n",
       "      <td>5</td>\n",
       "      <td>1 Review , 1 Follower</td>\n",
       "      <td>5/24/2019 22:11</td>\n",
       "      <td>0</td>\n",
       "    </tr>\n",
       "    <tr>\n",
       "      <th>4</th>\n",
       "      <td>Beyond Flavours</td>\n",
       "      <td>Dileep</td>\n",
       "      <td>Food is good.we ordered Kodi drumsticks and ba...</td>\n",
       "      <td>5</td>\n",
       "      <td>3 Reviews , 2 Followers</td>\n",
       "      <td>5/24/2019 21:37</td>\n",
       "      <td>0</td>\n",
       "    </tr>\n",
       "    <tr>\n",
       "      <th>5</th>\n",
       "      <td>Beyond Flavours</td>\n",
       "      <td>Nagabhavani K</td>\n",
       "      <td>Ambiance is good, service is good, food is aPr...</td>\n",
       "      <td>5</td>\n",
       "      <td>1 Review</td>\n",
       "      <td>5/24/2019 15:22</td>\n",
       "      <td>0</td>\n",
       "    </tr>\n",
       "    <tr>\n",
       "      <th>6</th>\n",
       "      <td>Beyond Flavours</td>\n",
       "      <td>Jamuna Bhuwalka</td>\n",
       "      <td>Its a very nice place, ambience is different, ...</td>\n",
       "      <td>5</td>\n",
       "      <td>1 Review</td>\n",
       "      <td>5/24/2019 1:02</td>\n",
       "      <td>0</td>\n",
       "    </tr>\n",
       "    <tr>\n",
       "      <th>7</th>\n",
       "      <td>Beyond Flavours</td>\n",
       "      <td>Sandhya S</td>\n",
       "      <td>Well after reading so many reviews finally vis...</td>\n",
       "      <td>4</td>\n",
       "      <td>1 Review</td>\n",
       "      <td>5/23/2019 15:01</td>\n",
       "      <td>0</td>\n",
       "    </tr>\n",
       "    <tr>\n",
       "      <th>8</th>\n",
       "      <td>Beyond Flavours</td>\n",
       "      <td>Akash Thorat</td>\n",
       "      <td>Excellent food , specially if you like spicy f...</td>\n",
       "      <td>5</td>\n",
       "      <td>1 Review , 1 Follower</td>\n",
       "      <td>5/22/2019 23:12</td>\n",
       "      <td>0</td>\n",
       "    </tr>\n",
       "    <tr>\n",
       "      <th>9</th>\n",
       "      <td>Beyond Flavours</td>\n",
       "      <td>Smarak Patnaik</td>\n",
       "      <td>Came for the birthday treat of a close friend....</td>\n",
       "      <td>5</td>\n",
       "      <td>1 Review , 1 Follower</td>\n",
       "      <td>5/22/2019 22:37</td>\n",
       "      <td>0</td>\n",
       "    </tr>\n",
       "  </tbody>\n",
       "</table>\n",
       "</div>"
      ],
      "text/plain": [
       "        Restaurant              Reviewer  \\\n",
       "0  Beyond Flavours     Rusha Chakraborty   \n",
       "1  Beyond Flavours  Anusha Tirumalaneedi   \n",
       "2  Beyond Flavours       Ashok Shekhawat   \n",
       "3  Beyond Flavours        Swapnil Sarkar   \n",
       "4  Beyond Flavours                Dileep   \n",
       "5  Beyond Flavours         Nagabhavani K   \n",
       "6  Beyond Flavours       Jamuna Bhuwalka   \n",
       "7  Beyond Flavours             Sandhya S   \n",
       "8  Beyond Flavours          Akash Thorat   \n",
       "9  Beyond Flavours        Smarak Patnaik   \n",
       "\n",
       "                                              Review Rating  \\\n",
       "0  The ambience was good, food was quite good . h...      5   \n",
       "1  Ambience is too good for a pleasant evening. S...      5   \n",
       "2  A must try.. great food great ambience. Thnx f...      5   \n",
       "3  Soumen das and Arun was a great guy. Only beca...      5   \n",
       "4  Food is good.we ordered Kodi drumsticks and ba...      5   \n",
       "5  Ambiance is good, service is good, food is aPr...      5   \n",
       "6  Its a very nice place, ambience is different, ...      5   \n",
       "7  Well after reading so many reviews finally vis...      4   \n",
       "8  Excellent food , specially if you like spicy f...      5   \n",
       "9  Came for the birthday treat of a close friend....      5   \n",
       "\n",
       "                  Metadata             Time  Pictures  \n",
       "0   1 Review , 2 Followers  5/25/2019 15:54         0  \n",
       "1  3 Reviews , 2 Followers  5/25/2019 14:20         0  \n",
       "2  2 Reviews , 3 Followers  5/24/2019 22:54         0  \n",
       "3    1 Review , 1 Follower  5/24/2019 22:11         0  \n",
       "4  3 Reviews , 2 Followers  5/24/2019 21:37         0  \n",
       "5                 1 Review  5/24/2019 15:22         0  \n",
       "6                 1 Review   5/24/2019 1:02         0  \n",
       "7                 1 Review  5/23/2019 15:01         0  \n",
       "8    1 Review , 1 Follower  5/22/2019 23:12         0  \n",
       "9    1 Review , 1 Follower  5/22/2019 22:37         0  "
      ]
     },
     "execution_count": 10,
     "metadata": {},
     "output_type": "execute_result"
    }
   ],
   "source": [
    "review=pd.read_csv('Restaurant reviews.csv')\n",
    "review.head(10)"
   ]
  },
  {
   "cell_type": "code",
   "execution_count": 11,
   "id": "616290db",
   "metadata": {},
   "outputs": [
    {
     "data": {
      "text/plain": [
       "Restaurant    object\n",
       "Reviewer      object\n",
       "Review        object\n",
       "Rating        object\n",
       "Metadata      object\n",
       "Time          object\n",
       "Pictures       int64\n",
       "dtype: object"
      ]
     },
     "execution_count": 11,
     "metadata": {},
     "output_type": "execute_result"
    }
   ],
   "source": [
    "review.dtypes"
   ]
  },
  {
   "cell_type": "code",
   "execution_count": 12,
   "id": "5be73bcf",
   "metadata": {},
   "outputs": [
    {
     "data": {
      "text/plain": [
       "Restaurant     0\n",
       "Reviewer      38\n",
       "Review        45\n",
       "Rating        38\n",
       "Metadata      38\n",
       "Time          38\n",
       "Pictures       0\n",
       "dtype: int64"
      ]
     },
     "execution_count": 12,
     "metadata": {},
     "output_type": "execute_result"
    }
   ],
   "source": [
    "review.isnull().sum()"
   ]
  },
  {
   "cell_type": "code",
   "execution_count": 13,
   "id": "ad17e23d",
   "metadata": {},
   "outputs": [
    {
     "data": {
      "text/plain": [
       "Restaurant    0\n",
       "Reviewer      0\n",
       "Review        0\n",
       "Rating        0\n",
       "Metadata      0\n",
       "Time          0\n",
       "Pictures      0\n",
       "dtype: int64"
      ]
     },
     "execution_count": 13,
     "metadata": {},
     "output_type": "execute_result"
    }
   ],
   "source": [
    "review.dropna(inplace=True)\n",
    "review.isnull().sum()"
   ]
  },
  {
   "cell_type": "code",
   "execution_count": 14,
   "id": "baa2c07d",
   "metadata": {},
   "outputs": [
    {
     "data": {
      "text/html": [
       "<div>\n",
       "<style scoped>\n",
       "    .dataframe tbody tr th:only-of-type {\n",
       "        vertical-align: middle;\n",
       "    }\n",
       "\n",
       "    .dataframe tbody tr th {\n",
       "        vertical-align: top;\n",
       "    }\n",
       "\n",
       "    .dataframe thead th {\n",
       "        text-align: right;\n",
       "    }\n",
       "</style>\n",
       "<table border=\"1\" class=\"dataframe\">\n",
       "  <thead>\n",
       "    <tr style=\"text-align: right;\">\n",
       "      <th></th>\n",
       "      <th>Restaurant</th>\n",
       "      <th>Reviewer</th>\n",
       "      <th>Review</th>\n",
       "      <th>Rating</th>\n",
       "      <th>Metadata</th>\n",
       "      <th>Time</th>\n",
       "      <th>Pictures</th>\n",
       "    </tr>\n",
       "  </thead>\n",
       "  <tbody>\n",
       "    <tr>\n",
       "      <th>7601</th>\n",
       "      <td>The Old Madras Baking Company</td>\n",
       "      <td>Dhanasekar Kannan</td>\n",
       "      <td>One of the best pizzas to try. It served with ...</td>\n",
       "      <td>Like</td>\n",
       "      <td>12 Reviews , 21 Followers</td>\n",
       "      <td>5/18/2019 12:31</td>\n",
       "      <td>1</td>\n",
       "    </tr>\n",
       "  </tbody>\n",
       "</table>\n",
       "</div>"
      ],
      "text/plain": [
       "                         Restaurant           Reviewer  \\\n",
       "7601  The Old Madras Baking Company  Dhanasekar Kannan   \n",
       "\n",
       "                                                 Review Rating  \\\n",
       "7601  One of the best pizzas to try. It served with ...   Like   \n",
       "\n",
       "                       Metadata             Time  Pictures  \n",
       "7601  12 Reviews , 21 Followers  5/18/2019 12:31         1  "
      ]
     },
     "execution_count": 14,
     "metadata": {},
     "output_type": "execute_result"
    }
   ],
   "source": [
    "review[review['Rating']=='Like']"
   ]
  },
  {
   "cell_type": "code",
   "execution_count": 15,
   "id": "11e4ee3a",
   "metadata": {},
   "outputs": [
    {
     "data": {
      "text/html": [
       "<div>\n",
       "<style scoped>\n",
       "    .dataframe tbody tr th:only-of-type {\n",
       "        vertical-align: middle;\n",
       "    }\n",
       "\n",
       "    .dataframe tbody tr th {\n",
       "        vertical-align: top;\n",
       "    }\n",
       "\n",
       "    .dataframe thead th {\n",
       "        text-align: right;\n",
       "    }\n",
       "</style>\n",
       "<table border=\"1\" class=\"dataframe\">\n",
       "  <thead>\n",
       "    <tr style=\"text-align: right;\">\n",
       "      <th></th>\n",
       "      <th>Restaurant</th>\n",
       "      <th>Reviewer</th>\n",
       "      <th>Review</th>\n",
       "      <th>Rating</th>\n",
       "      <th>Metadata</th>\n",
       "      <th>Time</th>\n",
       "      <th>Pictures</th>\n",
       "    </tr>\n",
       "  </thead>\n",
       "  <tbody>\n",
       "  </tbody>\n",
       "</table>\n",
       "</div>"
      ],
      "text/plain": [
       "Empty DataFrame\n",
       "Columns: [Restaurant, Reviewer, Review, Rating, Metadata, Time, Pictures]\n",
       "Index: []"
      ]
     },
     "execution_count": 15,
     "metadata": {},
     "output_type": "execute_result"
    }
   ],
   "source": [
    "review=review[review['Rating']!='Like']\n",
    "review[review['Rating']=='Like']"
   ]
  },
  {
   "cell_type": "code",
   "execution_count": 16,
   "id": "f15acd1d",
   "metadata": {},
   "outputs": [
    {
     "name": "stderr",
     "output_type": "stream",
     "text": [
      "<ipython-input-16-467708eb6f68>:2: FutureWarning: Columnar iteration over characters will be deprecated in future releases.\n",
      "  review['Reviews'],review['Followers']=review['Metadata'].str.split(',').str\n"
     ]
    },
    {
     "data": {
      "text/plain": [
       "Restaurant            object\n",
       "Reviewer              object\n",
       "Review                object\n",
       "Rating               float64\n",
       "Reviews                int64\n",
       "Followers            float64\n",
       "Time          datetime64[ns]\n",
       "Pictures               int64\n",
       "dtype: object"
      ]
     },
     "execution_count": 16,
     "metadata": {},
     "output_type": "execute_result"
    }
   ],
   "source": [
    "review['Rating']=pd.to_numeric(review['Rating'])\n",
    "review['Reviews'],review['Followers']=review['Metadata'].str.split(',').str\n",
    "review['Reviews']=pd.to_numeric(review['Reviews'].str.split(' ').str[0])\n",
    "review['Followers']=pd.to_numeric(review['Followers'].str.split(' ').str[1])\n",
    "review['Time']=pd.to_datetime(review['Time'])\n",
    "review=review.loc[:,['Restaurant','Reviewer','Review','Rating','Reviews','Followers','Time','Pictures']]\n",
    "review.dtypes"
   ]
  },
  {
   "cell_type": "code",
   "execution_count": 17,
   "id": "303cd56e",
   "metadata": {},
   "outputs": [
    {
     "name": "stdout",
     "output_type": "stream",
     "text": [
      "The Top 10 Cuisines are:\n",
      "               Counts of Restaurants\n",
      "North Indian                     61\n",
      "Chinese                          43\n",
      "Continental                      21\n",
      "Biryani                          16\n",
      "Fast Food                        15\n",
      "Asian                            15\n",
      "Italian                          14\n",
      "Desserts                         13\n",
      "South Indian                      9\n",
      "Bakery                            7\n"
     ]
    },
    {
     "name": "stderr",
     "output_type": "stream",
     "text": [
      "<ipython-input-17-406c29238d4a>:16: MatplotlibDeprecationWarning: Using a string of single character colors as a color sequence is deprecated since 3.2 and will be removed two minor releases later. Use an explicit list instead.\n",
      "  plt.bar(cuis_df.index,cuis_df['Counts of Restaurants'],color='cgy')\n"
     ]
    },
    {
     "data": {
      "text/plain": [
       "Text(0.5, 1.0, 'Cuisines at Restaurants in Hyderabad (in order of Popularity)')"
      ]
     },
     "execution_count": 17,
     "metadata": {},
     "output_type": "execute_result"
    },
    {
     "data": {
      "image/png": "[encoded data removed]",
      "text/plain": [
       "<Figure size 720x720 with 1 Axes>"
      ]
     },
     "metadata": {
      "needs_background": "light"
     },
     "output_type": "display_data"
    }
   ],
   "source": [
    "cuisine_list=restaurants.Cuisines.str.split(', ')\n",
    "cuis={}\n",
    "for i in cuisine_list:\n",
    "    for j in i:\n",
    "        if (j in cuis):\n",
    "            cuis[j]+=1\n",
    "        else:\n",
    "            cuis[j]=1\n",
    "cuis_df=pd.DataFrame(cuis.values(),index=cuis.keys(),columns={'Counts of Restaurants'})\n",
    "cuis_df.sort_values(by='Counts of Restaurants',ascending=False,inplace=True)\n",
    "top_10_cuis=cuis_df[0:10]\n",
    "print('The Top 10 Cuisines are:\\n',top_10_cuis)\n",
    "top_10_cuis.reset_index()\n",
    "plt.figure(figsize=(10,10))\n",
    "plt.plot(cuis_df.index,cuis_df['Counts of Restaurants'],color='r')\n",
    "plt.bar(cuis_df.index,cuis_df['Counts of Restaurants'],color='cgy')\n",
    "plt.xlabel('Cuisines',size=15)\n",
    "plt.xticks(rotation=90)\n",
    "plt.ylabel('Cuisine available at Number of Restaurants',size=15)\n",
    "plt.title('Cuisines at Restaurants in Hyderabad (in order of Popularity)',size=20)"
   ]
  },
  {
   "cell_type": "code",
   "execution_count": 18,
   "id": "5bb6c64e",
   "metadata": {},
   "outputs": [
    {
     "name": "stdout",
     "output_type": "stream",
     "text": [
      "A total of 7442 users have sumbitted a review- with each user submitting at an average of 1.3375436710561677 reviews\n",
      "----------The Top 15 Users who have submitted the most reviews------------\n",
      "                            Reviewer  Review Count\n",
      "654                           Ankita            13\n",
      "3855                     Parijat Ray            13\n",
      "2652                           Kiran            12\n",
      "7009                    Vedant Killa            11\n",
      "2311                       Jay Mehta            11\n",
      "3131           Manojkumar D Nambisan            10\n",
      "6126                         Sravani            10\n",
      "5954                      Siva Kumar            10\n",
      "4256                        Priyanka            10\n",
      "264   Age Of Foodies (Suraj Karambe)            10\n",
      "4130                 Prasun Gokhlani             9\n",
      "3998               Prachita Jayaswal             9\n",
      "3694                           Nillu             9\n",
      "2642                 Khushboo Pandey             9\n",
      "7172                           Vinay             9\n"
     ]
    },
    {
     "data": {
      "text/plain": [
       "<matplotlib.legend.Legend at 0x27987829c70>"
      ]
     },
     "execution_count": 18,
     "metadata": {},
     "output_type": "execute_result"
    },
    {
     "data": {
      "image/png": "[encoded data removed]",
      "text/plain": [
       "<Figure size 576x576 with 1 Axes>"
      ]
     },
     "metadata": {
      "needs_background": "light"
     },
     "output_type": "display_data"
    }
   ],
   "source": [
    "top_reviewer=review.groupby('Reviewer').apply(lambda x:x['Reviewer'].count()).reset_index(name='Review Count')\n",
    "top_reviewer=top_reviewer.sort_values(by='Review Count',ascending=False)\n",
    "print('A total of {} users have sumbitted a review- with each user submitting at an average of {} reviews'.format(review.Reviewer.nunique(),np.average(review.Reviewer.value_counts())))\n",
    "print('----------The Top 15 Users who have submitted the most reviews------------')\n",
    "print(top_reviewer[:15])\n",
    "top_reviewer_count=top_reviewer.groupby('Review Count').apply(lambda x:x['Review Count'].count()).reset_index(name='Counts')\n",
    "plt.figure(figsize=(8,8))\n",
    "plt.plot(top_reviewer_count['Review Count'],top_reviewer_count['Counts'],color='r')\n",
    "plt.scatter(top_reviewer_count['Review Count'],top_reviewer_count['Counts'],color='b')\n",
    "plt.xlabel('No of Reviews by an User',size=15)\n",
    "plt.ylabel('Count of Users for same number of Reviews',size=15)\n",
    "plt.title('Distribution of Reviews among Reviewers',size=20)\n",
    "plt.legend(['Count of Reviewers'])"
   ]
  },
  {
   "cell_type": "code",
   "execution_count": null,
   "id": "d36a6c59",
   "metadata": {},
   "outputs": [],
   "source": []
  },
  {
   "cell_type": "code",
   "execution_count": null,
   "id": "f41ced3f",
   "metadata": {},
   "outputs": [],
   "source": []
  }
 ],
 "metadata": {
  "kernelspec": {
   "display_name": "Python 3",
   "language": "python",
   "name": "python3"
  },
  "language_info": {
   "codemirror_mode": {
    "name": "ipython",
    "version": 3
   },
   "file_extension": ".py",
   "mimetype": "text/x-python",
   "name": "python",
   "nbconvert_exporter": "python",
   "pygments_lexer": "ipython3",
   "version": "3.8.8"
  }
 },
 "nbformat": 4,
 "nbformat_minor": 5
}
